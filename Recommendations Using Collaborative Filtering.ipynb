{
 "cells": [
  {
   "cell_type": "code",
   "execution_count": 1,
   "metadata": {},
   "outputs": [],
   "source": [
    "import pandas as pd\n",
    "import re\n",
    "import numpy as np\n",
    "import scipy as sp\n",
    "import seaborn as sns\n",
    "from sklearn.metrics.pairwise import cosine_similarity\n",
    "import gc\n",
    "import operator\n",
    "import matplotlib.pyplot as plt\n",
    "%matplotlib inline"
   ]
  },
  {
   "cell_type": "code",
   "execution_count": 2,
   "metadata": {},
   "outputs": [],
   "source": [
    "anime = pd.read_csv('data1/anime.csv')\n",
    "user = pd.read_csv('data1/rating.csv')"
   ]
  },
  {
   "cell_type": "code",
   "execution_count": 3,
   "metadata": {},
   "outputs": [
    {
     "name": "stdout",
     "output_type": "stream",
     "text": [
      "<class 'pandas.core.frame.DataFrame'>\n",
      "RangeIndex: 7813737 entries, 0 to 7813736\n",
      "Data columns (total 3 columns):\n",
      " #   Column    Dtype\n",
      "---  ------    -----\n",
      " 0   user_id   int64\n",
      " 1   anime_id  int64\n",
      " 2   rating    int64\n",
      "dtypes: int64(3)\n",
      "memory usage: 178.8 MB\n"
     ]
    }
   ],
   "source": [
    "def text_cleaning(text):\n",
    "    text = re.sub(r'&quot;', '', text)\n",
    "    text = re.sub(r'.hack//', '', text)\n",
    "    text = re.sub(r'&#039;', '', text)\n",
    "    text = re.sub(r'A&#039;s', '', text)\n",
    "    text = re.sub(r'I&#039;', 'I\\'', text)\n",
    "    text = re.sub(r'&amp;', 'and', text)\n",
    "    \n",
    "    return text\n",
    "\n",
    "anime['name'] = anime['name'].apply(text_cleaning)\n",
    "user['rating'] = user['rating'].apply(lambda x: 0 if x == -1 else x)\n",
    "user_sub = user[user['user_id'] < 20000]\n",
    "user_sub = user_sub.apply(pd.to_numeric,downcast='integer')\n",
    "user.info()"
   ]
  },
  {
   "cell_type": "code",
   "execution_count": null,
   "metadata": {},
   "outputs": [],
   "source": []
  },
  {
   "cell_type": "code",
   "execution_count": 4,
   "metadata": {},
   "outputs": [
    {
     "data": {
      "text/plain": [
       "24"
      ]
     },
     "execution_count": 4,
     "metadata": {},
     "output_type": "execute_result"
    }
   ],
   "source": [
    "gc.collect()"
   ]
  },
  {
   "cell_type": "code",
   "execution_count": 5,
   "metadata": {},
   "outputs": [],
   "source": [
    "merged = user_sub.merge(anime, left_on = 'anime_id', right_on = 'anime_id', suffixes= ['_user', ''])\n",
    "merged.rename(columns = {'rating_user':'user_rating'}, inplace = True)"
   ]
  },
  {
   "cell_type": "code",
   "execution_count": 6,
   "metadata": {},
   "outputs": [
    {
     "data": {
      "text/plain": [
       "40"
      ]
     },
     "execution_count": 6,
     "metadata": {},
     "output_type": "execute_result"
    }
   ],
   "source": [
    "gc.collect()"
   ]
  },
  {
   "cell_type": "code",
   "execution_count": 7,
   "metadata": {},
   "outputs": [],
   "source": [
    "ints = merged.select_dtypes(include=['int'])\n",
    "floats = merged.select_dtypes(include=['float'])\n",
    "converted_int = ints.apply(pd.to_numeric,downcast='integer')\n",
    "convMem = merged.members.astype('int32')\n",
    "converted_flt = floats.apply(pd.to_numeric,downcast='float')\n",
    "merged[converted_int.columns] = converted_int\n",
    "merged[converted_flt.columns] = converted_flt\n",
    "merged['members'] = convMem"
   ]
  },
  {
   "cell_type": "code",
   "execution_count": 8,
   "metadata": {},
   "outputs": [],
   "source": [
    "del ints,floats,converted_int,convMem,converted_flt,user"
   ]
  },
  {
   "cell_type": "code",
   "execution_count": 9,
   "metadata": {},
   "outputs": [
    {
     "name": "stdout",
     "output_type": "stream",
     "text": [
      "<class 'pandas.core.frame.DataFrame'>\n",
      "Int64Index: 2065569 entries, 0 to 2065568\n",
      "Data columns (total 9 columns):\n",
      " #   Column       Dtype  \n",
      "---  ------       -----  \n",
      " 0   user_id      int16  \n",
      " 1   anime_id     int32  \n",
      " 2   user_rating  int8   \n",
      " 3   name         object \n",
      " 4   genre        object \n",
      " 5   type         object \n",
      " 6   episodes     object \n",
      " 7   rating       float32\n",
      " 8   members      int32  \n",
      "dtypes: float32(1), int16(1), int32(2), int8(1), object(4)\n",
      "memory usage: 108.3+ MB\n"
     ]
    }
   ],
   "source": [
    "merged.info()"
   ]
  },
  {
   "cell_type": "code",
   "execution_count": null,
   "metadata": {},
   "outputs": [],
   "source": []
  },
  {
   "cell_type": "code",
   "execution_count": 10,
   "metadata": {},
   "outputs": [
    {
     "data": {
      "text/plain": [
       "60"
      ]
     },
     "execution_count": 10,
     "metadata": {},
     "output_type": "execute_result"
    }
   ],
   "source": [
    "gc.collect()"
   ]
  },
  {
   "cell_type": "code",
   "execution_count": 11,
   "metadata": {},
   "outputs": [
    {
     "name": "stdout",
     "output_type": "stream",
     "text": [
      "<class 'pandas.core.frame.DataFrame'>\n",
      "Int64Index: 19999 entries, 1 to 19999\n",
      "Columns: 9272 entries, 0 to ◯\n",
      "dtypes: float32(9272)\n",
      "memory usage: 707.5 MB\n"
     ]
    }
   ],
   "source": [
    "piv = merged.pivot_table(index=['user_id'], columns=['name'], values='user_rating').apply(pd.to_numeric,downcast='float')\n",
    "piv.info()"
   ]
  },
  {
   "cell_type": "code",
   "execution_count": 12,
   "metadata": {},
   "outputs": [],
   "source": [
    "# Note: As we are subtracting the mean from each rating to standardize\n",
    "# all users with only one rating or who had rated everything the same will be dropped\n",
    "\n",
    "# Normalize the values\n",
    "piv_norm = piv.apply(lambda x: (x-np.mean(x))/(np.max(x)-np.min(x)), axis=1)\n",
    "\n",
    "\n",
    "# Drop all columns containing only zeros representing users who did not rate\n",
    "piv_norm.fillna(0, inplace=True)\n",
    "piv_norm = piv_norm.T\n",
    "piv_norm = piv_norm.loc[:, (piv_norm != 0).any(axis=0)]"
   ]
  },
  {
   "cell_type": "code",
   "execution_count": 13,
   "metadata": {},
   "outputs": [
    {
     "data": {
      "text/plain": [
       "38"
      ]
     },
     "execution_count": 13,
     "metadata": {},
     "output_type": "execute_result"
    }
   ],
   "source": [
    "gc.collect()"
   ]
  },
  {
   "cell_type": "code",
   "execution_count": 14,
   "metadata": {},
   "outputs": [],
   "source": [
    "piv_sparse = sp.sparse.csr_matrix(piv_norm.values)"
   ]
  },
  {
   "cell_type": "code",
   "execution_count": 15,
   "metadata": {},
   "outputs": [],
   "source": [
    "item_similarity = cosine_similarity(piv_sparse)\n",
    "user_similarity = cosine_similarity(piv_sparse.T)"
   ]
  },
  {
   "cell_type": "code",
   "execution_count": 16,
   "metadata": {},
   "outputs": [],
   "source": [
    "item_sim_df = pd.DataFrame(item_similarity, index = piv_norm.index, columns = piv_norm.index)\n",
    "user_sim_df = pd.DataFrame(user_similarity, index = piv_norm.columns, columns = piv_norm.columns)"
   ]
  },
  {
   "cell_type": "code",
   "execution_count": 31,
   "metadata": {},
   "outputs": [
    {
     "data": {
      "text/html": [
       "<div>\n",
       "<style scoped>\n",
       "    .dataframe tbody tr th:only-of-type {\n",
       "        vertical-align: middle;\n",
       "    }\n",
       "\n",
       "    .dataframe tbody tr th {\n",
       "        vertical-align: top;\n",
       "    }\n",
       "\n",
       "    .dataframe thead th {\n",
       "        text-align: right;\n",
       "    }\n",
       "</style>\n",
       "<table border=\"1\" class=\"dataframe\">\n",
       "  <thead>\n",
       "    <tr style=\"text-align: right;\">\n",
       "      <th>name</th>\n",
       "      <th>0</th>\n",
       "      <th>001</th>\n",
       "      <th>009 Re:Cyborg</th>\n",
       "      <th>009-1</th>\n",
       "      <th>009-1: RandB</th>\n",
       "      <th>00:08</th>\n",
       "      <th>07-Ghost</th>\n",
       "      <th>1+2=Paradise</th>\n",
       "      <th>100%</th>\n",
       "      <th>100-man-nen Chikyuu no Tabi: Bander Book</th>\n",
       "      <th>...</th>\n",
       "      <th>lilac (bombs Jun Togawa)</th>\n",
       "      <th>makemagic</th>\n",
       "      <th>s.CRY.ed</th>\n",
       "      <th>vivi</th>\n",
       "      <th>xxxHOLiC</th>\n",
       "      <th>xxxHOLiC Kei</th>\n",
       "      <th>xxxHOLiC Movie: Manatsu no Yoru no Yume</th>\n",
       "      <th>xxxHOLiC Rou</th>\n",
       "      <th>xxxHOLiC Shunmuki</th>\n",
       "      <th>◯</th>\n",
       "    </tr>\n",
       "    <tr>\n",
       "      <th>name</th>\n",
       "      <th></th>\n",
       "      <th></th>\n",
       "      <th></th>\n",
       "      <th></th>\n",
       "      <th></th>\n",
       "      <th></th>\n",
       "      <th></th>\n",
       "      <th></th>\n",
       "      <th></th>\n",
       "      <th></th>\n",
       "      <th></th>\n",
       "      <th></th>\n",
       "      <th></th>\n",
       "      <th></th>\n",
       "      <th></th>\n",
       "      <th></th>\n",
       "      <th></th>\n",
       "      <th></th>\n",
       "      <th></th>\n",
       "      <th></th>\n",
       "      <th></th>\n",
       "    </tr>\n",
       "  </thead>\n",
       "  <tbody>\n",
       "    <tr>\n",
       "      <th>0</th>\n",
       "      <td>1.000000</td>\n",
       "      <td>0.057501</td>\n",
       "      <td>-0.042011</td>\n",
       "      <td>0.000000</td>\n",
       "      <td>0.000000</td>\n",
       "      <td>0.000000</td>\n",
       "      <td>0.000000</td>\n",
       "      <td>0.000000</td>\n",
       "      <td>0.000000</td>\n",
       "      <td>0.0</td>\n",
       "      <td>...</td>\n",
       "      <td>-0.412652</td>\n",
       "      <td>-0.338727</td>\n",
       "      <td>0.000000</td>\n",
       "      <td>0.412652</td>\n",
       "      <td>0.004715</td>\n",
       "      <td>0.000000</td>\n",
       "      <td>0.000000</td>\n",
       "      <td>0.000000</td>\n",
       "      <td>0.000000</td>\n",
       "      <td>0.262414</td>\n",
       "    </tr>\n",
       "    <tr>\n",
       "      <th>001</th>\n",
       "      <td>0.057501</td>\n",
       "      <td>1.000000</td>\n",
       "      <td>-0.014186</td>\n",
       "      <td>0.000000</td>\n",
       "      <td>0.000000</td>\n",
       "      <td>0.479604</td>\n",
       "      <td>0.000000</td>\n",
       "      <td>0.000000</td>\n",
       "      <td>0.000000</td>\n",
       "      <td>0.0</td>\n",
       "      <td>...</td>\n",
       "      <td>-0.139345</td>\n",
       "      <td>-0.114382</td>\n",
       "      <td>0.000000</td>\n",
       "      <td>0.139345</td>\n",
       "      <td>0.001592</td>\n",
       "      <td>0.000000</td>\n",
       "      <td>0.000000</td>\n",
       "      <td>0.000000</td>\n",
       "      <td>0.000000</td>\n",
       "      <td>0.088613</td>\n",
       "    </tr>\n",
       "    <tr>\n",
       "      <th>009 Re:Cyborg</th>\n",
       "      <td>-0.042011</td>\n",
       "      <td>-0.014186</td>\n",
       "      <td>1.000000</td>\n",
       "      <td>0.004610</td>\n",
       "      <td>0.000077</td>\n",
       "      <td>0.000000</td>\n",
       "      <td>-0.005485</td>\n",
       "      <td>0.109641</td>\n",
       "      <td>0.000000</td>\n",
       "      <td>0.0</td>\n",
       "      <td>...</td>\n",
       "      <td>0.101808</td>\n",
       "      <td>0.083569</td>\n",
       "      <td>-0.011581</td>\n",
       "      <td>-0.101808</td>\n",
       "      <td>-0.011307</td>\n",
       "      <td>-0.008718</td>\n",
       "      <td>-0.005874</td>\n",
       "      <td>-0.000834</td>\n",
       "      <td>-0.005329</td>\n",
       "      <td>-0.064742</td>\n",
       "    </tr>\n",
       "    <tr>\n",
       "      <th>009-1</th>\n",
       "      <td>0.000000</td>\n",
       "      <td>0.000000</td>\n",
       "      <td>0.004610</td>\n",
       "      <td>1.000000</td>\n",
       "      <td>0.439418</td>\n",
       "      <td>0.000000</td>\n",
       "      <td>0.011028</td>\n",
       "      <td>0.098094</td>\n",
       "      <td>0.119294</td>\n",
       "      <td>0.0</td>\n",
       "      <td>...</td>\n",
       "      <td>0.000000</td>\n",
       "      <td>0.000000</td>\n",
       "      <td>-0.018829</td>\n",
       "      <td>0.000000</td>\n",
       "      <td>0.021830</td>\n",
       "      <td>0.013546</td>\n",
       "      <td>0.021746</td>\n",
       "      <td>-0.012171</td>\n",
       "      <td>0.007128</td>\n",
       "      <td>0.000000</td>\n",
       "    </tr>\n",
       "    <tr>\n",
       "      <th>009-1: RandB</th>\n",
       "      <td>0.000000</td>\n",
       "      <td>0.000000</td>\n",
       "      <td>0.000077</td>\n",
       "      <td>0.439418</td>\n",
       "      <td>1.000000</td>\n",
       "      <td>0.000000</td>\n",
       "      <td>0.017293</td>\n",
       "      <td>0.128962</td>\n",
       "      <td>0.152821</td>\n",
       "      <td>0.0</td>\n",
       "      <td>...</td>\n",
       "      <td>0.000000</td>\n",
       "      <td>0.000000</td>\n",
       "      <td>-0.006543</td>\n",
       "      <td>0.000000</td>\n",
       "      <td>-0.006992</td>\n",
       "      <td>-0.004108</td>\n",
       "      <td>0.038099</td>\n",
       "      <td>-0.036029</td>\n",
       "      <td>0.007506</td>\n",
       "      <td>0.000000</td>\n",
       "    </tr>\n",
       "  </tbody>\n",
       "</table>\n",
       "<p>5 rows × 9272 columns</p>\n",
       "</div>"
      ],
      "text/plain": [
       "name                  0       001  009 Re:Cyborg     009-1  009-1: RandB  \\\n",
       "name                                                                       \n",
       "0              1.000000  0.057501      -0.042011  0.000000      0.000000   \n",
       "001            0.057501  1.000000      -0.014186  0.000000      0.000000   \n",
       "009 Re:Cyborg -0.042011 -0.014186       1.000000  0.004610      0.000077   \n",
       "009-1          0.000000  0.000000       0.004610  1.000000      0.439418   \n",
       "009-1: RandB   0.000000  0.000000       0.000077  0.439418      1.000000   \n",
       "\n",
       "name              00:08  07-Ghost  1+2=Paradise      100%  \\\n",
       "name                                                        \n",
       "0              0.000000  0.000000      0.000000  0.000000   \n",
       "001            0.479604  0.000000      0.000000  0.000000   \n",
       "009 Re:Cyborg  0.000000 -0.005485      0.109641  0.000000   \n",
       "009-1          0.000000  0.011028      0.098094  0.119294   \n",
       "009-1: RandB   0.000000  0.017293      0.128962  0.152821   \n",
       "\n",
       "name           100-man-nen Chikyuu no Tabi: Bander Book  ...  \\\n",
       "name                                                     ...   \n",
       "0                                                   0.0  ...   \n",
       "001                                                 0.0  ...   \n",
       "009 Re:Cyborg                                       0.0  ...   \n",
       "009-1                                               0.0  ...   \n",
       "009-1: RandB                                        0.0  ...   \n",
       "\n",
       "name           lilac (bombs Jun Togawa)  makemagic  s.CRY.ed      vivi  \\\n",
       "name                                                                     \n",
       "0                             -0.412652  -0.338727  0.000000  0.412652   \n",
       "001                           -0.139345  -0.114382  0.000000  0.139345   \n",
       "009 Re:Cyborg                  0.101808   0.083569 -0.011581 -0.101808   \n",
       "009-1                          0.000000   0.000000 -0.018829  0.000000   \n",
       "009-1: RandB                   0.000000   0.000000 -0.006543  0.000000   \n",
       "\n",
       "name           xxxHOLiC  xxxHOLiC Kei  \\\n",
       "name                                    \n",
       "0              0.004715      0.000000   \n",
       "001            0.001592      0.000000   \n",
       "009 Re:Cyborg -0.011307     -0.008718   \n",
       "009-1          0.021830      0.013546   \n",
       "009-1: RandB  -0.006992     -0.004108   \n",
       "\n",
       "name           xxxHOLiC Movie: Manatsu no Yoru no Yume  xxxHOLiC Rou  \\\n",
       "name                                                                   \n",
       "0                                             0.000000      0.000000   \n",
       "001                                           0.000000      0.000000   \n",
       "009 Re:Cyborg                                -0.005874     -0.000834   \n",
       "009-1                                         0.021746     -0.012171   \n",
       "009-1: RandB                                  0.038099     -0.036029   \n",
       "\n",
       "name           xxxHOLiC Shunmuki         ◯  \n",
       "name                                        \n",
       "0                       0.000000  0.262414  \n",
       "001                     0.000000  0.088613  \n",
       "009 Re:Cyborg          -0.005329 -0.064742  \n",
       "009-1                   0.007128  0.000000  \n",
       "009-1: RandB            0.007506  0.000000  \n",
       "\n",
       "[5 rows x 9272 columns]"
      ]
     },
     "execution_count": 31,
     "metadata": {},
     "output_type": "execute_result"
    }
   ],
   "source": [
    "item_sim_df.head()"
   ]
  },
  {
   "cell_type": "code",
   "execution_count": 32,
   "metadata": {},
   "outputs": [],
   "source": [
    "item_sim_df.to_csv('data1/items.csv')"
   ]
  },
  {
   "cell_type": "code",
   "execution_count": 26,
   "metadata": {},
   "outputs": [],
   "source": [
    "def top_animes1(n):\n",
    "    x = input('Enter Anime Name:')\n",
    "    anime_name = anime[anime['name'].str.contains(x, case=False)].sort_values(by='members', ascending=False).reset_index()['name'][0]\n",
    "    count = 1\n",
    "    print('If you like {}, you may also like:\\n'.format(anime_name))\n",
    "    for item in item_sim_df.sort_values(by = anime_name, ascending = False).index[1:int(n)+1]:\n",
    "        print('No. {}: {}'.format(count, item))\n",
    "        count +=1"
   ]
  },
  {
   "cell_type": "code",
   "execution_count": 28,
   "metadata": {},
   "outputs": [
    {
     "name": "stdout",
     "output_type": "stream",
     "text": [
      "Enter Anime Name:death\n",
      "If you like Death Note, you may also like:\n",
      "\n",
      "No. 1: Code Geass: Hangyaku no Lelouch R2\n",
      "No. 2: Code Geass: Hangyaku no Lelouch\n",
      "No. 3: Fullmetal Alchemist: Brotherhood\n",
      "No. 4: Steins;Gate\n",
      "No. 5: Shingeki no Kyojin\n",
      "No. 6: Clannad: After Story\n",
      "No. 7: Fullmetal Alchemist\n",
      "No. 8: Tengen Toppa Gurren Lagann\n",
      "No. 9: Great Teacher Onizuka\n",
      "No. 10: Sen to Chihiro no Kamikakushi\n",
      "No. 11: Durarara!!\n"
     ]
    }
   ],
   "source": [
    "top_animes1(11)"
   ]
  },
  {
   "cell_type": "code",
   "execution_count": null,
   "metadata": {},
   "outputs": [],
   "source": []
  }
 ],
 "metadata": {
  "kernelspec": {
   "display_name": "Python 3",
   "language": "python",
   "name": "python3"
  },
  "language_info": {
   "codemirror_mode": {
    "name": "ipython",
    "version": 3
   },
   "file_extension": ".py",
   "mimetype": "text/x-python",
   "name": "python",
   "nbconvert_exporter": "python",
   "pygments_lexer": "ipython3",
   "version": "3.8.5"
  }
 },
 "nbformat": 4,
 "nbformat_minor": 4
}
